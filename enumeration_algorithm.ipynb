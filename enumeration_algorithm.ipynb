{
 "cells": [
  {
   "cell_type": "markdown",
   "metadata": {},
   "source": [
    "# Enumeration Algorithm"
   ]
  },
  {
   "cell_type": "code",
   "execution_count": 1,
   "metadata": {},
   "outputs": [],
   "source": [
    "import numpy as np\n",
    "import pandas as pd\n",
    "import re"
   ]
  },
  {
   "cell_type": "markdown",
   "metadata": {},
   "source": [
    "# Get joint distribution from Excel\n",
    "I put my excel file in my assignment folder\n",
    "You can change or add Random Vars without limitation but the Probability column name must be \"P\""
   ]
  },
  {
   "cell_type": "code",
   "execution_count": 2,
   "metadata": {},
   "outputs": [
    {
     "name": "stdout",
     "output_type": "stream",
     "text": [
      "    Season  Temp Weather     P\n",
      "0   summer   hot     sun  0.35\n",
      "1   summer   hot    rain  0.01\n",
      "2   summer   hot     fog  0.01\n",
      "3   summer   hot  meteor  0.00\n",
      "4   summer  cold     sun  0.10\n",
      "5   summer  cold    rain  0.05\n",
      "6   summer  cold     fog  0.09\n",
      "7   summer  cold  meteor  0.00\n",
      "8   winter   hot     sun  0.10\n",
      "9   winter   hot    rain  0.01\n",
      "10  winter   hot     fog  0.02\n",
      "11  winter   hot  meteor  0.00\n",
      "12  winter  cold     sun  0.15\n",
      "13  winter  cold    rain  0.20\n",
      "14  winter  cold     fog  0.18\n",
      "15  winter  cold  meteor  0.00\n"
     ]
    }
   ],
   "source": [
    "df = pd.read_excel (r'data.xlsx')\n",
    "print (df)"
   ]
  },
  {
   "cell_type": "markdown",
   "metadata": {},
   "source": [
    "# Query input guide\n",
    "\n",
    "your query must be like below\n",
    "also you can add many evidences as column numbers\n",
    "\n",
    "p(Weather|Season=winter,Temp=hot)\n",
    "\n",
    "p(Weather|Season=winter)\n",
    "\n",
    "p(Weather)\n",
    "\n",
    "for speed of checking, i commented the input query from user\n",
    "you can change the query or open user input query"
   ]
  },
  {
   "cell_type": "code",
   "execution_count": 3,
   "metadata": {},
   "outputs": [
    {
     "name": "stdout",
     "output_type": "stream",
     "text": [
      "p(Weather|Season=winter)\n"
     ]
    }
   ],
   "source": [
    "#query = input(\"Enter Query: \") \n",
    "query = \"p(Weather|Season=winter)\";\n",
    "print(query) "
   ]
  },
  {
   "cell_type": "markdown",
   "metadata": {},
   "source": [
    "# Preprocessing\n",
    "Here i seperate main random var and evidences with RegularExpression system.\n",
    "you can pick comment to see seperation"
   ]
  },
  {
   "cell_type": "code",
   "execution_count": 4,
   "metadata": {},
   "outputs": [],
   "source": [
    "params = re.findall(r'\\((.*?)\\)',query)[0].split('|')\n",
    "#targetRV = targetRandomVariable\n",
    "targetRV = params[0]\n",
    "evidences = []\n",
    "if len(params)>1:\n",
    "    evidences = params[1].split(',')\n",
    "#print(\"targetRV = \" + targetRV)\n",
    "#print(evidences)"
   ]
  },
  {
   "cell_type": "markdown",
   "metadata": {},
   "source": [
    "# Evidence lines sellection - Step 1\n",
    "select lines of data frame that there is evidence in it\n",
    "you can see these lines prints below"
   ]
  },
  {
   "cell_type": "code",
   "execution_count": 5,
   "metadata": {},
   "outputs": [
    {
     "name": "stdout",
     "output_type": "stream",
     "text": [
      "    Season  Temp Weather     P\n",
      "8   winter   hot     sun  0.10\n",
      "9   winter   hot    rain  0.01\n",
      "10  winter   hot     fog  0.02\n",
      "11  winter   hot  meteor  0.00\n",
      "12  winter  cold     sun  0.15\n",
      "13  winter  cold    rain  0.20\n",
      "14  winter  cold     fog  0.18\n",
      "15  winter  cold  meteor  0.00\n"
     ]
    }
   ],
   "source": [
    "list = df\n",
    "for ev in evidences:\n",
    "    ev = ev.split('=')\n",
    "    evidenceRV = ev[0]\n",
    "    evidenceVal = ev[1]\n",
    "    list = list.where(df[evidenceRV] == evidenceVal)\n",
    "print (list.dropna())"
   ]
  },
  {
   "cell_type": "markdown",
   "metadata": {},
   "source": [
    "# Marginal for Hidden Vars - Step2\n",
    "find unique columns and do summation in probabilities"
   ]
  },
  {
   "cell_type": "code",
   "execution_count": 6,
   "metadata": {
    "scrolled": true
   },
   "outputs": [
    {
     "name": "stdout",
     "output_type": "stream",
     "text": [
      "  Weather     P\n",
      "0     fog  0.20\n",
      "1  meteor  0.00\n",
      "2    rain  0.21\n",
      "3     sun  0.25\n"
     ]
    }
   ],
   "source": [
    "#marginal\n",
    "RVsituations = list[targetRV]\n",
    "RVsituations_arr = np.unique(RVsituations.dropna().to_numpy())\n",
    "RVsituations_p_arr = []\n",
    "for status in RVsituations_arr: \n",
    "    newlist = list['P'].where(df[targetRV] == status).dropna().to_numpy()\n",
    "    newVal = np.sum(newlist);\n",
    "    RVsituations_p_arr.append(newVal)\n",
    "\n",
    "newdf = pd.DataFrame({targetRV:RVsituations_arr, \n",
    "                    'P':RVsituations_p_arr}) \n",
    "print(newdf)\n",
    "\n",
    "\n",
    "\n",
    "    "
   ]
  },
  {
   "cell_type": "markdown",
   "metadata": {},
   "source": [
    "# Normalization for convert joint to conditional - step3\n",
    "find Alpha parameter and Multiply with each lines"
   ]
  },
  {
   "cell_type": "code",
   "execution_count": 7,
   "metadata": {},
   "outputs": [
    {
     "name": "stdout",
     "output_type": "stream",
     "text": [
      "  Weather         P\n",
      "0     fog  0.303030\n",
      "1  meteor  0.000000\n",
      "2    rain  0.318182\n",
      "3     sun  0.378788\n"
     ]
    }
   ],
   "source": [
    "alpha = np.sum(RVsituations_p_arr)\n",
    "\n",
    "temp_arr = []\n",
    "for status in RVsituations_p_arr:\n",
    "    newVal = status/alpha\n",
    "    temp_arr.append(newVal)\n",
    "RVsituations_p_arr = temp_arr  \n",
    "\n",
    "newdf = pd.DataFrame({targetRV:RVsituations_arr, \n",
    "                    'P':RVsituations_p_arr}) \n",
    "print(newdf)"
   ]
  },
  {
   "cell_type": "markdown",
   "metadata": {},
   "source": [
    "# Get total summery of probabilities"
   ]
  },
  {
   "cell_type": "code",
   "execution_count": 8,
   "metadata": {},
   "outputs": [
    {
     "name": "stdout",
     "output_type": "stream",
     "text": [
      "p(Weather|Season=winter) = 0.9999999999999999\n"
     ]
    }
   ],
   "source": [
    "finalP = np.sum(RVsituations_p_arr)\n",
    "#print(query + \" = \" + finalP)\n",
    "print(query + \" = \" + str(finalP))"
   ]
  }
 ],
 "metadata": {
  "kernelspec": {
   "display_name": "Python 3",
   "language": "python",
   "name": "python3"
  },
  "language_info": {
   "codemirror_mode": {
    "name": "ipython",
    "version": 3
   },
   "file_extension": ".py",
   "mimetype": "text/x-python",
   "name": "python",
   "nbconvert_exporter": "python",
   "pygments_lexer": "ipython3",
   "version": "3.8.5"
  }
 },
 "nbformat": 4,
 "nbformat_minor": 4
}
